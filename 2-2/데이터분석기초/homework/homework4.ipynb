{
 "cells": [
  {
   "cell_type": "markdown",
   "metadata": {},
   "source": [
    "## 리스트요소합계"
   ]
  },
  {
   "cell_type": "code",
   "execution_count": 4,
   "metadata": {},
   "outputs": [
    {
     "name": "stdout",
     "output_type": "stream",
     "text": [
      "1번째 숫자: 10\n",
      "2번째 숫자: 20\n",
      "3번째 숫자: 30\n",
      "4번째 숫자: 40\n",
      "합계==>100\n"
     ]
    }
   ],
   "source": [
    "aa=[]\n",
    "\n",
    "hap=0\n",
    "\n",
    "for i in range(0,4):\n",
    "    aa.append(int(input(str(i+1)+\"번째 숫자: \")))\n",
    "    hap=hap+aa[i]\n",
    "    \n",
    "print(\"합계==>%d\" % hap)"
   ]
  },
  {
   "cell_type": "markdown",
   "metadata": {},
   "source": [
    "## 리스트요소값 접근 및 변경"
   ]
  },
  {
   "cell_type": "code",
   "execution_count": 27,
   "metadata": {},
   "outputs": [
    {
     "name": "stdout",
     "output_type": "stream",
     "text": [
      "30\n",
      "40\n",
      "[10, 20, 30]\n",
      "[30, 40]\n",
      "[10, 20, 30, 40, 10, 20, 30, 40, 10, 20, 30, 40]\n",
      "[10, 20, 30, 40, 40, 50, 60]\n",
      "[10, 30]\n",
      "[40, 20]\n",
      "[10, 200, 30, 40]\n",
      "[10, 200, 201, 40]\n",
      "[10, [200, 201], 201, 40]\n",
      "[10, [200, 201], 201]\n",
      "[10]\n",
      "[]\n"
     ]
    }
   ],
   "source": [
    "aa=[10,20,30,40]\n",
    "bb=[40,50,60]\n",
    "print(aa[2])\n",
    "print(aa[-1])\n",
    "print(aa[0:3])\n",
    "print(aa[2:])\n",
    "print(aa*3)\n",
    "print(aa+bb)\n",
    "print(aa[::2])\n",
    "print(aa[::-2])\n",
    "aa[1]=200\n",
    "print(aa)\n",
    "aa[1:3]=[200,201]\n",
    "print(aa)\n",
    "aa[1]=[200,201]\n",
    "print(aa)\n",
    "del(aa[i])\n",
    "print(aa)\n",
    "aa[1:4]=[]\n",
    "print(aa)\n",
    "aa=[]\n",
    "print(aa)"
   ]
  },
  {
   "cell_type": "markdown",
   "metadata": {},
   "source": [
    "## 리스트 조작함수"
   ]
  },
  {
   "cell_type": "code",
   "execution_count": 5,
   "metadata": {},
   "outputs": [
    {
     "name": "stdout",
     "output_type": "stream",
     "text": [
      "[30, 10, 20]\n"
     ]
    }
   ],
   "source": [
    "myList=[30,10,20]\n",
    "print(myList)"
   ]
  },
  {
   "cell_type": "code",
   "execution_count": 6,
   "metadata": {},
   "outputs": [
    {
     "name": "stdout",
     "output_type": "stream",
     "text": [
      "[30, 10, 20, 40]\n"
     ]
    }
   ],
   "source": [
    "myList.append(40)\n",
    "print(myList)"
   ]
  },
  {
   "cell_type": "code",
   "execution_count": 7,
   "metadata": {},
   "outputs": [
    {
     "name": "stdout",
     "output_type": "stream",
     "text": [
      "40\n",
      "[30, 10, 20]\n"
     ]
    }
   ],
   "source": [
    "number=myList.pop()\n",
    "print(number)\n",
    "print(myList)"
   ]
  },
  {
   "cell_type": "code",
   "execution_count": 8,
   "metadata": {},
   "outputs": [
    {
     "name": "stdout",
     "output_type": "stream",
     "text": [
      "[10, 20, 30]\n"
     ]
    }
   ],
   "source": [
    "myList.sort()\n",
    "print(myList)"
   ]
  },
  {
   "cell_type": "code",
   "execution_count": 9,
   "metadata": {},
   "outputs": [
    {
     "name": "stdout",
     "output_type": "stream",
     "text": [
      "[30, 20, 10]\n"
     ]
    }
   ],
   "source": [
    "myList.reverse()\n",
    "print(myList)"
   ]
  },
  {
   "cell_type": "code",
   "execution_count": 10,
   "metadata": {},
   "outputs": [
    {
     "name": "stdout",
     "output_type": "stream",
     "text": [
      "0\n"
     ]
    }
   ],
   "source": [
    "idx=myList.index(30)\n",
    "print(idx)"
   ]
  },
  {
   "cell_type": "code",
   "execution_count": 11,
   "metadata": {},
   "outputs": [
    {
     "name": "stdout",
     "output_type": "stream",
     "text": [
      "[30, 20, 222, 10]\n"
     ]
    }
   ],
   "source": [
    "myList.insert(2,222)\n",
    "print(myList)"
   ]
  },
  {
   "cell_type": "code",
   "execution_count": 12,
   "metadata": {},
   "outputs": [
    {
     "name": "stdout",
     "output_type": "stream",
     "text": [
      "[30, 20, 10]\n"
     ]
    }
   ],
   "source": [
    "myList.remove(222)\n",
    "print(myList)"
   ]
  },
  {
   "cell_type": "code",
   "execution_count": 13,
   "metadata": {},
   "outputs": [
    {
     "name": "stdout",
     "output_type": "stream",
     "text": [
      "[30, 20, 10, 77, 88, 77]\n"
     ]
    }
   ],
   "source": [
    "myList.extend([77,88,77])\n",
    "print(myList)"
   ]
  },
  {
   "cell_type": "code",
   "execution_count": 14,
   "metadata": {},
   "outputs": [
    {
     "name": "stdout",
     "output_type": "stream",
     "text": [
      "2\n"
     ]
    }
   ],
   "source": [
    "num=myList.count(77)\n",
    "print(num)"
   ]
  },
  {
   "cell_type": "code",
   "execution_count": 15,
   "metadata": {},
   "outputs": [
    {
     "name": "stdout",
     "output_type": "stream",
     "text": [
      "myList:  [30, 10, 20]\n",
      "newList:  [10, 20, 30]\n"
     ]
    }
   ],
   "source": [
    "myList=[30,10,20]\n",
    "newList=sorted(myList)\n",
    "print(\"myList: \",myList)\n",
    "print(\"newList: \",newList)"
   ]
  },
  {
   "cell_type": "markdown",
   "metadata": {},
   "source": [
    "## 2차원 리스트"
   ]
  },
  {
   "cell_type": "code",
   "execution_count": 25,
   "metadata": {},
   "outputs": [
    {
     "name": "stdout",
     "output_type": "stream",
     "text": [
      "  1  2  3  4\n",
      "  5  6  7  8\n",
      "  9 10 11 12\n"
     ]
    }
   ],
   "source": [
    "list1=[]\n",
    "list2=[]\n",
    "\n",
    "value=1\n",
    "\n",
    "for i in range(3):\n",
    "    for k in range(4):\n",
    "        list1.append(value)\n",
    "        value+=1\n",
    "    list2.append(list1)\n",
    "    list1=[]\n",
    "\n",
    "for i in range(0,3):\n",
    "    for k in range(0,4):\n",
    "        print(\"%3d\" % list2[i][k],end=\"\")\n",
    "    print()"
   ]
  }
 ],
 "metadata": {
  "kernelspec": {
   "display_name": "Python 3",
   "language": "python",
   "name": "python3"
  },
  "language_info": {
   "codemirror_mode": {
    "name": "ipython",
    "version": 3
   },
   "file_extension": ".py",
   "mimetype": "text/x-python",
   "name": "python",
   "nbconvert_exporter": "python",
   "pygments_lexer": "ipython3",
   "version": "3.8.3"
  }
 },
 "nbformat": 4,
 "nbformat_minor": 4
}
