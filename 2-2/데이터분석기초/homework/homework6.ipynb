{
 "cells": [
  {
   "cell_type": "markdown",
   "metadata": {},
   "source": [
    "## ListInternalStructure"
   ]
  },
  {
   "cell_type": "code",
   "execution_count": 2,
   "metadata": {},
   "outputs": [
    {
     "name": "stdout",
     "output_type": "stream",
     "text": [
      "2111105264128\n"
     ]
    }
   ],
   "source": [
    "score=[10,20,30,40,50]\n",
    "print(id(score))"
   ]
  },
  {
   "cell_type": "code",
   "execution_count": 3,
   "metadata": {},
   "outputs": [
    {
     "name": "stdout",
     "output_type": "stream",
     "text": [
      "140707719166016\n",
      "140707719166336\n",
      "140707719166656\n",
      "140707719166976\n",
      "140707719167296\n"
     ]
    }
   ],
   "source": [
    "print(id(score[0]))\n",
    "print(id(score[1]))\n",
    "print(id(score[2]))\n",
    "print(id(score[3]))\n",
    "print(id(score[4]))"
   ]
  },
  {
   "cell_type": "code",
   "execution_count": 4,
   "metadata": {},
   "outputs": [
    {
     "name": "stdout",
     "output_type": "stream",
     "text": [
      "140707719168576\n"
     ]
    }
   ],
   "source": [
    "score[2]=90\n",
    "print(id(score[2])) #주소값 바뀜"
   ]
  },
  {
   "cell_type": "code",
   "execution_count": 7,
   "metadata": {},
   "outputs": [
    {
     "name": "stdout",
     "output_type": "stream",
     "text": [
      "140707719166336\n"
     ]
    }
   ],
   "source": [
    "score[3]=20\n",
    "print(id(score[3])) #score[1]과 주소가 같음"
   ]
  },
  {
   "cell_type": "code",
   "execution_count": 8,
   "metadata": {},
   "outputs": [
    {
     "name": "stdout",
     "output_type": "stream",
     "text": [
      "140707719168256\n"
     ]
    }
   ],
   "source": [
    "score[1]=80\n",
    "print(id(score[1]))"
   ]
  },
  {
   "cell_type": "markdown",
   "metadata": {},
   "source": [
    "## ListCopy"
   ]
  },
  {
   "cell_type": "code",
   "execution_count": 9,
   "metadata": {},
   "outputs": [
    {
     "name": "stdout",
     "output_type": "stream",
     "text": [
      "2111105565696\n",
      "140707719166016\n",
      "140707719166336\n",
      "140707719166656\n",
      "140707719166976\n",
      "140707719167296\n"
     ]
    }
   ],
   "source": [
    "score=[10,20,30,40,50]\n",
    "print(id(score))\n",
    "for i in range(0,5):\n",
    "    print(id(score[i]))"
   ]
  },
  {
   "cell_type": "code",
   "execution_count": 11,
   "metadata": {},
   "outputs": [
    {
     "name": "stdout",
     "output_type": "stream",
     "text": [
      "2111105565696\n",
      "140707719166016\n",
      "140707719166336\n",
      "140707719166656\n",
      "140707719166976\n",
      "140707719167296\n"
     ]
    }
   ],
   "source": [
    "values=score      #얕은 복사\n",
    "print(id(values))\n",
    "for i in range(0,5):\n",
    "    print(id(values[i]))"
   ]
  },
  {
   "cell_type": "code",
   "execution_count": 13,
   "metadata": {},
   "outputs": [
    {
     "name": "stdout",
     "output_type": "stream",
     "text": [
      "140707719168864\n",
      "99\n"
     ]
    }
   ],
   "source": [
    "values[2]=99\n",
    "print(id(values[2]))\n",
    "print(score[2])"
   ]
  },
  {
   "cell_type": "code",
   "execution_count": 15,
   "metadata": {},
   "outputs": [
    {
     "name": "stdout",
     "output_type": "stream",
     "text": [
      "2111105565696\n",
      "2111105794496\n"
     ]
    }
   ],
   "source": [
    "values=list(score)  #깊은 복사\n",
    "print(id(score))\n",
    "print(id(values))"
   ]
  },
  {
   "cell_type": "code",
   "execution_count": 17,
   "metadata": {},
   "outputs": [
    {
     "name": "stdout",
     "output_type": "stream",
     "text": [
      "140707719166016\n",
      "140707719166336\n",
      "140707719168864\n",
      "140707719166976\n",
      "140707719167296\n",
      "----\n",
      "140707719166016\n",
      "140707719166336\n",
      "140707719168864\n",
      "140707719166976\n",
      "140707719167296\n"
     ]
    }
   ],
   "source": [
    "for i in range(0,5):\n",
    "    print(id(score[i]))\n",
    "print(\"----\")\n",
    "for i in range(0,5):\n",
    "    print(id(values[i]))"
   ]
  },
  {
   "cell_type": "code",
   "execution_count": 20,
   "metadata": {},
   "outputs": [
    {
     "name": "stdout",
     "output_type": "stream",
     "text": [
      "140707719168864\n",
      "10\n",
      "140707719166016\n"
     ]
    }
   ],
   "source": [
    "score[0]=99\n",
    "print(id(score[0]))\n",
    "print(values[0])\n",
    "print(id(values[0]))"
   ]
  },
  {
   "cell_type": "code",
   "execution_count": 21,
   "metadata": {},
   "outputs": [
    {
     "name": "stdout",
     "output_type": "stream",
     "text": [
      "140707719168576\n"
     ]
    }
   ],
   "source": [
    "values[1]=90\n",
    "print(id(values[1]))"
   ]
  },
  {
   "cell_type": "markdown",
   "metadata": {},
   "source": [
    "## ListFunction"
   ]
  },
  {
   "cell_type": "code",
   "execution_count": 25,
   "metadata": {},
   "outputs": [
    {
     "name": "stdout",
     "output_type": "stream",
     "text": [
      "[0, 1, 1, 2]\n",
      "values[0]=0, id=140707719165696\n",
      "values[1]=1, id=140707719165728\n",
      "values[2]=1, id=140707719165728\n",
      "values[3]=2, id=140707719165760\n",
      "[0, 99, 1, 2]\n",
      "values[0]=0, id=140707719165696\n",
      "values[1]=99, id=140707719168864\n",
      "values[2]=1, id=140707719165728\n",
      "values[3]=2, id=140707719165760\n"
     ]
    }
   ],
   "source": [
    "def func2(list):\n",
    "    list[1]=99\n",
    "    \n",
    "values=[0,1,1,2]\n",
    "print(values)\n",
    "for i in range(0,4):\n",
    "    print(\"values[%d]=%d, id=%d\"%(i,values[i],id(values[i])))\n",
    "func2(values)\n",
    "print(values)\n",
    "for i in range(0,4):\n",
    "    print(\"values[%d]=%d, id=%d\"%(i,values[i],id(values[i])))"
   ]
  },
  {
   "cell_type": "code",
   "execution_count": 26,
   "metadata": {},
   "outputs": [
    {
     "name": "stdout",
     "output_type": "stream",
     "text": [
      "[0, 1, 1, 2]\n",
      "[99, 1, 1, 2]\n"
     ]
    }
   ],
   "source": [
    "def func2(list):\n",
    "    list[0]=99\n",
    "    v=[1,2]\n",
    "    list=v\n",
    "    \n",
    "values=[0,1,1,2]\n",
    "print(values)\n",
    "func2(values)\n",
    "print(values)"
   ]
  },
  {
   "cell_type": "markdown",
   "metadata": {},
   "source": [
    "## Cheapest"
   ]
  },
  {
   "cell_type": "code",
   "execution_count": 27,
   "metadata": {},
   "outputs": [
    {
     "name": "stdout",
     "output_type": "stream",
     "text": [
      "가장 싼 가격은:  20\n"
     ]
    }
   ],
   "source": [
    "prices=[90,80,20,60,70]\n",
    "cheapest=prices[0]\n",
    "for i in range(1,len(prices)):\n",
    "    if cheapest>prices[i]:\n",
    "        cheapest=prices[i]\n",
    "print(\"가장 싼 가격은: \",cheapest)"
   ]
  },
  {
   "cell_type": "code",
   "execution_count": 28,
   "metadata": {},
   "outputs": [
    {
     "name": "stdout",
     "output_type": "stream",
     "text": [
      "가장 싼 가격은:  20\n"
     ]
    }
   ],
   "source": [
    "prices=[90,80,20,60,70]\n",
    "cheapest=prices[0]\n",
    "for value in prices:\n",
    "    if cheapest>value:\n",
    "        cheapest=value\n",
    "print(\"가장 싼 가격은: \",cheapest)"
   ]
  },
  {
   "cell_type": "markdown",
   "metadata": {},
   "source": [
    "## SequentialSearch"
   ]
  },
  {
   "cell_type": "code",
   "execution_count": 31,
   "metadata": {},
   "outputs": [
    {
     "name": "stdout",
     "output_type": "stream",
     "text": [
      "탐색 성공 위치= 7\n"
     ]
    }
   ],
   "source": [
    "numbers=[10,20,30,40,50,60,70,80,90]\n",
    "\n",
    "key=80\n",
    "position=-1\n",
    "for i in range(len(numbers)):\n",
    "    if key==numbers[i]:\n",
    "        position=i\n",
    "if position==-1:\n",
    "    print(\"탐색 실패\")\n",
    "else:\n",
    "    print(\"탐색 성공 위치=\",position)"
   ]
  },
  {
   "cell_type": "code",
   "execution_count": 32,
   "metadata": {},
   "outputs": [
    {
     "name": "stdout",
     "output_type": "stream",
     "text": [
      "탐색 성공 위치= 7\n"
     ]
    }
   ],
   "source": [
    "numbers=[10,20,30,40,50,60,70,80,90]\n",
    "\n",
    "key=80\n",
    "position=-1\n",
    "for i, value in enumerate(numbers): #i는 인덱스, value는 값\n",
    "    if key==value:\n",
    "        position=i\n",
    "if position==-1:\n",
    "    print(\"탐색 실패\")\n",
    "else:\n",
    "    print(\"탐색 성공 위치=\",position)"
   ]
  },
  {
   "cell_type": "code",
   "execution_count": 33,
   "metadata": {},
   "outputs": [
    {
     "name": "stdout",
     "output_type": "stream",
     "text": [
      "탐색 성공 위치= 7\n"
     ]
    }
   ],
   "source": [
    "def linearSearch(aList,key):\n",
    "    for i, value in enumerate(numbers): #i는 인덱스, value는 값\n",
    "        if key==value:\n",
    "            return i\n",
    "    return -1\n",
    "\n",
    "numbers=[10,20,30,40,50,60,70,80,90]\n",
    "position=linearSearch(numbers,80)\n",
    "if position==-1:\n",
    "    print(\"탐색 실패\")\n",
    "else:\n",
    "    print(\"탐색 성공 위치=\",position)"
   ]
  },
  {
   "cell_type": "code",
   "execution_count": 37,
   "metadata": {},
   "outputs": [
    {
     "name": "stdout",
     "output_type": "stream",
     "text": [
      "7\n"
     ]
    }
   ],
   "source": [
    "numbers=[10,20,30,40,50,60,70,80,90]\n",
    "print(numbers.index(80))"
   ]
  },
  {
   "cell_type": "markdown",
   "metadata": {},
   "source": [
    "## Party_Set"
   ]
  },
  {
   "cell_type": "code",
   "execution_count": 38,
   "metadata": {},
   "outputs": [
    {
     "name": "stdout",
     "output_type": "stream",
     "text": [
      "2개의 파티에 모두 참석한 사람은 다음과 같습니다.\n",
      "{'Park'}\n"
     ]
    }
   ],
   "source": [
    "partyA=set([\"Park\",\"Kim\",\"Lee\"])\n",
    "partyB=set([\"Park\",\"Choi\"])\n",
    "\n",
    "print(\"2개의 파티에 모두 참석한 사람은 다음과 같습니다.\")\n",
    "print(partyA.intersection(partyB))"
   ]
  },
  {
   "cell_type": "markdown",
   "metadata": {},
   "source": [
    "## Words"
   ]
  },
  {
   "cell_type": "code",
   "execution_count": 1,
   "metadata": {},
   "outputs": [
    {
     "name": "stdout",
     "output_type": "stream",
     "text": [
      "입력 파일 이름: proverbs.txt\n",
      "사용된 단어의 개수=  18\n",
      "{'birds', 'begun', 'feather', 'flock', 'fast', 'alls', 'half', 'a', 'done', 'news', 'together', 'ends', 'travels', 'bad', 'of', 'well', 'is', 'that'}\n"
     ]
    }
   ],
   "source": [
    "#단어에서 구두점을 제거하고 소문자로 만드는 함수\n",
    "def process(w):\n",
    "    output=\"\"\n",
    "    for ch in w:\n",
    "        if ch.isalpha():\n",
    "            output+=ch\n",
    "    return output.lower()\n",
    "\n",
    "words=set()\n",
    "\n",
    "fname=input(\"입력 파일 이름: \")\n",
    "file=open(fname,\"r\")\n",
    "\n",
    "for line in file:\n",
    "    lineWords=line.split()\n",
    "    #print(lineWords)\n",
    "    for word in lineWords:\n",
    "        #print(word)\n",
    "        words.add(process(word))\n",
    "print(\"사용된 단어의 개수= \",len(words))\n",
    "print(words)"
   ]
  },
  {
   "cell_type": "markdown",
   "metadata": {},
   "source": [
    "## WordsCounter"
   ]
  },
  {
   "cell_type": "code",
   "execution_count": 2,
   "metadata": {},
   "outputs": [
    {
     "name": "stdout",
     "output_type": "stream",
     "text": [
      "파일 이름: proverbs.txt\n",
      "{\"All's\": 1, 'well': 1, 'that': 1, 'ends': 1, 'well.': 1, 'Bad': 1, 'news': 1, 'travels': 1, 'fast.': 1, 'Well': 1, 'begun': 1, 'is': 1, 'half': 1, 'done.': 1, 'Birds': 1, 'of': 1, 'a': 1, 'feather': 1, 'flock': 1, 'together.': 1}\n"
     ]
    }
   ],
   "source": [
    "fname=input(\"파일 이름: \")\n",
    "file=open(fname,\"r\")\n",
    "\n",
    "table=dict()\n",
    "\n",
    "for line in file:\n",
    "    words=line.split()    #words는 리스트\n",
    "    for word in words:\n",
    "        if word not in table:\n",
    "            table[word]=1\n",
    "        else:\n",
    "            table[word]=table[word]+1\n",
    "\n",
    "print(table)"
   ]
  }
 ],
 "metadata": {
  "kernelspec": {
   "display_name": "Python 3",
   "language": "python",
   "name": "python3"
  },
  "language_info": {
   "codemirror_mode": {
    "name": "ipython",
    "version": 3
   },
   "file_extension": ".py",
   "mimetype": "text/x-python",
   "name": "python",
   "nbconvert_exporter": "python",
   "pygments_lexer": "ipython3",
   "version": "3.8.3"
  }
 },
 "nbformat": 4,
 "nbformat_minor": 4
}
