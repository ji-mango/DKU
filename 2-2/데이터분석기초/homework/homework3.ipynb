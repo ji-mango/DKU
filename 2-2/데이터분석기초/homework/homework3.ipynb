{
 "cells": [
  {
   "cell_type": "markdown",
   "metadata": {},
   "source": [
    "## 1~10 합계구하기"
   ]
  },
  {
   "cell_type": "code",
   "execution_count": 2,
   "metadata": {},
   "outputs": [
    {
     "name": "stdout",
     "output_type": "stream",
     "text": [
      "1에서 10까지의 합계 : 55\n"
     ]
    }
   ],
   "source": [
    "i, hap = 0, 0\n",
    "\n",
    "while i<=10:\n",
    "    hap=hap+i\n",
    "    i=i+1\n",
    "print(\"1에서 10까지의 합계 : %d\" % hap)\n"
   ]
  },
  {
   "cell_type": "markdown",
   "metadata": {},
   "source": [
    "## 두수덧셈_break"
   ]
  },
  {
   "cell_type": "code",
   "execution_count": 3,
   "metadata": {},
   "outputs": [
    {
     "name": "stdout",
     "output_type": "stream",
     "text": [
      "더할 첫 번째 정수 : 10\n",
      "더할 두 번째 정수 : 20\n",
      "10 + 20 = 30\n",
      "더할 첫 번째 정수 : 30\n",
      "더할 두 번째 정수 : 21\n",
      "30 + 21 = 51\n",
      "더할 첫 번째 정수 : 0\n",
      "0을 입력해서 반복문을 탈출했습니다.\n"
     ]
    }
   ],
   "source": [
    "hap=0\n",
    "a,b=0,0\n",
    "\n",
    "while True:\n",
    "    a=int(input(\"더할 첫 번째 정수 : \"))\n",
    "    if a==0:\n",
    "        break\n",
    "    b=int(input(\"더할 두 번째 정수 : \"))\n",
    "\n",
    "    hap=a+b\n",
    "\n",
    "    print(\"%d + %d = %d\" % (a,b,hap))\n",
    "\n",
    "print(\"0을 입력해서 반복문을 탈출했습니다.\")"
   ]
  },
  {
   "cell_type": "markdown",
   "metadata": {},
   "source": [
    "## 합계 1000초과_break"
   ]
  },
  {
   "cell_type": "code",
   "execution_count": 4,
   "metadata": {},
   "outputs": [
    {
     "name": "stdout",
     "output_type": "stream",
     "text": [
      "1~100의 합계가 최초로 1000이 넘을 때 더해진 수는 : 45\n",
      "합계 : 1035\n"
     ]
    }
   ],
   "source": [
    "hap,i=0,0\n",
    "\n",
    "for i in range(1,101):\n",
    "    hap+=i\n",
    "    if hap>1000:\n",
    "        break\n",
    "        \n",
    "print(\"1~100의 합계가 최초로 1000이 넘을 때 더해진 수는 : %d\" % i)\n",
    "print(\"합계 : %d\" % hap)"
   ]
  },
  {
   "cell_type": "code",
   "execution_count": 15,
   "metadata": {},
   "outputs": [
    {
     "name": "stdout",
     "output_type": "stream",
     "text": [
      "1~100의 합계가 최초로 1000이 넘을 때 더해진 수는 : 45\n",
      "합계 : 1035\n"
     ]
    }
   ],
   "source": [
    "hap, i= 0,0\n",
    "\n",
    "i=1\n",
    "while i<=100:\n",
    "    hap=hap + i\n",
    "    if hap > 1000:\n",
    "        break\n",
    "    i=i+1\n",
    "    \n",
    "print(\"1~100의 합계가 최초로 1000이 넘을 때 더해진 수는 : %d\" % i)\n",
    "print(\"합계 : %d\" % hap)"
   ]
  },
  {
   "cell_type": "markdown",
   "metadata": {},
   "source": [
    "## 합계 3의배수 제외_continue"
   ]
  },
  {
   "cell_type": "code",
   "execution_count": 17,
   "metadata": {},
   "outputs": [
    {
     "name": "stdout",
     "output_type": "stream",
     "text": [
      "1~100의 합계 : 3367\n"
     ]
    }
   ],
   "source": [
    "hap, i=0, 0\n",
    "\n",
    "for i in range(1,101,1):\n",
    "    if i%3 !=0:\n",
    "        hap=hap+i\n",
    "print(\"1~100의 합계 : %d\" % hap)"
   ]
  },
  {
   "cell_type": "markdown",
   "metadata": {},
   "source": [
    "## 별다이아몬드"
   ]
  },
  {
   "cell_type": "code",
   "execution_count": 20,
   "metadata": {},
   "outputs": [
    {
     "name": "stdout",
     "output_type": "stream",
     "text": [
      "        ★\n",
      "      ★★★\n",
      "    ★★★★★\n",
      "  ★★★★★★★\n",
      "★★★★★★★★★\n",
      "  ★★★★★★★\n",
      "    ★★★★★\n",
      "      ★★★\n",
      "        ★\n"
     ]
    }
   ],
   "source": [
    "i,k=0,0\n",
    "\n",
    "while(i<9):\n",
    "    if i<5:\n",
    "        k=0\n",
    "        while k<4-i:\n",
    "            print(\"  \",end='')\n",
    "            k=k+1\n",
    "        k=0\n",
    "        while k<1+2*i:\n",
    "            print(\"\\u2605\",end='')\n",
    "            k=k+1\n",
    "    else:\n",
    "        k=0\n",
    "        while k<i-4:\n",
    "            print('  ',end='')\n",
    "            k=k+1\n",
    "        k=0\n",
    "        while k<17-2*i:\n",
    "            print(\"\\u2605\",end='')\n",
    "            k=k+1\n",
    "    print()\n",
    "    i=i+1\n",
    "            \n",
    "        \n",
    "        "
   ]
  },
  {
   "cell_type": "code",
   "execution_count": 24,
   "metadata": {},
   "outputs": [
    {
     "name": "stdout",
     "output_type": "stream",
     "text": [
      "        ★\n",
      "      ★★★\n",
      "    ★★★★★\n",
      "  ★★★★★★★\n",
      "★★★★★★★★★\n",
      "  ★★★★★★★\n",
      "    ★★★★★\n",
      "      ★★★\n",
      "        ★\n"
     ]
    }
   ],
   "source": [
    "for i in range(1,6,1):\n",
    "    for k in range(1,6-i,1):\n",
    "        print('  ',end='')\n",
    "    for k in range(1,2*i,1):\n",
    "        print('\\u2605',end='')\n",
    "    print()\n",
    "for j in range(0,4,1):\n",
    "    for k in range(1,2+j,1):\n",
    "        print('  ',end='')\n",
    "    for k in range(1,8-2*j,1):\n",
    "        print('\\u2605',end='')\n",
    "    print()"
   ]
  },
  {
   "cell_type": "code",
   "execution_count": null,
   "metadata": {},
   "outputs": [],
   "source": []
  }
 ],
 "metadata": {
  "kernelspec": {
   "display_name": "Python 3",
   "language": "python",
   "name": "python3"
  },
  "language_info": {
   "codemirror_mode": {
    "name": "ipython",
    "version": 3
   },
   "file_extension": ".py",
   "mimetype": "text/x-python",
   "name": "python",
   "nbconvert_exporter": "python",
   "pygments_lexer": "ipython3",
   "version": "3.8.3"
  }
 },
 "nbformat": 4,
 "nbformat_minor": 4
}
