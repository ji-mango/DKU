{
 "cells": [
  {
   "cell_type": "markdown",
   "metadata": {},
   "source": [
    "## Plus"
   ]
  },
  {
   "cell_type": "code",
   "execution_count": 1,
   "metadata": {},
   "outputs": [
    {
     "name": "stdout",
     "output_type": "stream",
     "text": [
      "100과 200의 plus() 함수 결과는 300\n"
     ]
    }
   ],
   "source": [
    "def plus(v1,v2):\n",
    "    result=0\n",
    "    result=v1+v2\n",
    "    return result\n",
    "\n",
    "hap=0\n",
    "hap=plus(100,200)\n",
    "print(\"100과 200의 plus() 함수 결과는 %d\" % hap)"
   ]
  },
  {
   "cell_type": "code",
   "execution_count": 2,
   "metadata": {},
   "outputs": [
    {
     "name": "stdout",
     "output_type": "stream",
     "text": [
      "100과 200의 plus() 함수 결과는 300\n"
     ]
    }
   ],
   "source": [
    "def plus(v1,v2):\n",
    "    return v1+v2\n",
    "\n",
    "hap=0\n",
    "hap=plus(100,200)\n",
    "print(\"100과 200의 plus() 함수 결과는 %d\" % hap)"
   ]
  },
  {
   "cell_type": "markdown",
   "metadata": {},
   "source": [
    "## Calc"
   ]
  },
  {
   "cell_type": "code",
   "execution_count": 4,
   "metadata": {},
   "outputs": [
    {
     "name": "stdout",
     "output_type": "stream",
     "text": [
      "첫 번째 수를 입력하세요 : 10\n",
      "계산을 입력하세요(+,-,*,/): /\n",
      "첫 번째 수를 입력하세요 : 0\n",
      "0으로 나눌 수 없습니다. ㅜㅜ\n"
     ]
    }
   ],
   "source": [
    "def calc(v1,v2,op):\n",
    "    result=0\n",
    "    if op==\"+\":\n",
    "        result=v1+v2\n",
    "    elif op=='-':\n",
    "        result=v1-v2\n",
    "    elif op=='*':\n",
    "        result=v1*v2\n",
    "    elif op=='/':\n",
    "        if v2==0:\n",
    "            result=\"0으로 나눌 수 없습니다. ㅜㅜ\"\n",
    "        else:\n",
    "            result=v1/v2\n",
    "    elif opp=='**':\n",
    "        result=v1**v2\n",
    "    else:\n",
    "        result=\"연산자가 잘못되었습니다.\"\n",
    "        \n",
    "    return result\n",
    "\n",
    "res=0\n",
    "var1, var2, oper=0,0,\"\"\n",
    "var1=int(input(\"첫 번째 수를 입력하세요 : \"))\n",
    "oper=input(\"계산을 입력하세요(+,-,*,/): \")\n",
    "var2=int(input(\"첫 번째 수를 입력하세요 : \"))\n",
    "\n",
    "res=calc(var1,var2,oper)\n",
    "if (str(type(res))==\"<class 'str'>\"):\n",
    "    print(res)\n",
    "else:\n",
    "    print(\"## 계산기 : %d %s %d = %d\" % (var1, oper, var2, res))"
   ]
  },
  {
   "cell_type": "markdown",
   "metadata": {},
   "source": [
    "## LocalGlobal"
   ]
  },
  {
   "cell_type": "code",
   "execution_count": 7,
   "metadata": {},
   "outputs": [
    {
     "name": "stdout",
     "output_type": "stream",
     "text": [
      "함수 실행 전 : 메인 코드 부분의 a의 값 : 20, a의 id : 140707082615168\n",
      "func1()에서 a값 10, a의 id : 140707082614848\n",
      "func1() 실행 후 : 메인 코드 부분의 a의 값 : 20, a의 id : 140707082615168\n",
      "func2()에서 a값 20, a의 id : 140707082615168\n",
      "func2() 실행 후 : 메인 코드 부분의 a의 값 : 20, a의 id : 140707082615168\n"
     ]
    }
   ],
   "source": [
    "def func1():\n",
    "    a=10 #지역변수\n",
    "    print(\"func1()에서 a값 %d, a의 id : %d\" % (a, id(a)))\n",
    "def func2():\n",
    "    print(\"func2()에서 a값 %d, a의 id : %d\" % (a, id(a)))\n",
    "\n",
    "a=20 #전역변수\n",
    "\n",
    "print(\"함수 실행 전 : 메인 코드 부분의 a의 값 : %d, a의 id : %d\" % (a, id(a)))\n",
    "func1()\n",
    "print(\"func1() 실행 후 : 메인 코드 부분의 a의 값 : %d, a의 id : %d\" % (a, id(a)))\n",
    "func2()\n",
    "print(\"func2() 실행 후 : 메인 코드 부분의 a의 값 : %d, a의 id : %d\" % (a, id(a)))"
   ]
  },
  {
   "cell_type": "code",
   "execution_count": 8,
   "metadata": {},
   "outputs": [
    {
     "name": "stdout",
     "output_type": "stream",
     "text": [
      "함수 실행 전 : 메인 코드 부분의 a의 값 : 20, a의 id : 140707082615168\n",
      "func1()에서 a값 10, a의 id : 140707082614848\n",
      "func1() 실행 후 : 메인 코드 부분의 a의 값 : 10, a의 id : 140707082614848\n",
      "func2()에서 a값 10, a의 id : 140707082614848\n",
      "func2() 실행 후 : 메인 코드 부분의 a의 값 : 10, a의 id : 140707082614848\n"
     ]
    }
   ],
   "source": [
    "def func1():\n",
    "    global a\n",
    "    a=10\n",
    "    print(\"func1()에서 a값 %d, a의 id : %d\" % (a, id(a)))\n",
    "def func2():\n",
    "    print(\"func2()에서 a값 %d, a의 id : %d\" % (a, id(a)))\n",
    "\n",
    "a=20 #전역변수\n",
    "\n",
    "print(\"함수 실행 전 : 메인 코드 부분의 a의 값 : %d, a의 id : %d\" % (a, id(a)))\n",
    "func1()\n",
    "print(\"func1() 실행 후 : 메인 코드 부분의 a의 값 : %d, a의 id : %d\" % (a, id(a)))\n",
    "func2()\n",
    "print(\"func2() 실행 후 : 메인 코드 부분의 a의 값 : %d, a의 id : %d\" % (a, id(a)))"
   ]
  }
 ],
 "metadata": {
  "kernelspec": {
   "display_name": "Python 3",
   "language": "python",
   "name": "python3"
  },
  "language_info": {
   "codemirror_mode": {
    "name": "ipython",
    "version": 3
   },
   "file_extension": ".py",
   "mimetype": "text/x-python",
   "name": "python",
   "nbconvert_exporter": "python",
   "pygments_lexer": "ipython3",
   "version": "3.8.3"
  }
 },
 "nbformat": 4,
 "nbformat_minor": 4
}
